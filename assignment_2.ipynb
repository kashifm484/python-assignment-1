{
 "cells": [
  {
   "cell_type": "code",
   "execution_count": 1,
   "metadata": {},
   "outputs": [
    {
     "name": "stdout",
     "output_type": "stream",
     "text": [
      "Enter Marks of Chemistry :34\n",
      "Enter Marks of Physics :56\n",
      "Enter Marks of Mthematics :77\n",
      "Enter Marks of Biology :45\n",
      "Enter Marks of English :78\n",
      "Subject      Marks  Grade\n",
      "Chemistry     34      E\n",
      "Physics       56      C\n",
      "Mathematics  77      A\n",
      "Biology       45      D\n",
      "English       78      A\n"
     ]
    }
   ],
   "source": [
    "chem = int(input(\"Enter Marks of Chemistry :\"))\n",
    "\n",
    "phy = int(input(\"Enter Marks of Physics :\"))\n",
    "\n",
    "math = int(input(\"Enter Marks of Mthematics :\"))\n",
    "\n",
    "bio = int(input(\"Enter Marks of Biology :\"))\n",
    "\n",
    "eng = int(input(\"Enter Marks of English :\"))\n",
    "\n",
    "print(\"Subject      Marks  Grade\")\n",
    "\n",
    "if chem >= 33 and chem < 40:\n",
    "    print(\"Chemistry    \" , chem , \"     E\")\n",
    "if chem >= 40 and chem < 50:\n",
    "    print(\"Chemistry    \" , chem , \"     D\")\n",
    "if chem >= 50 and chem < 60:\n",
    "    print(\"Chemistry     \" , chem , \"     C\")\n",
    "if chem >= 60 and chem < 70:\n",
    "    print(\"Chemistry    \" , chem , \"     B\")\n",
    "if chem >= 70 and chem < 80:\n",
    "    print(\"Chemistry    \" , chem , \"     A\")\n",
    "if chem >= 80 and chem < 100:\n",
    "    print(\"Chemistry    \" , chem , \"     A1\")\n",
    "if chem < 33:\n",
    "    print(\"Chemistry    \" , chem , \"     F\")\n",
    "    \n",
    "if phy >= 33 and phy < 40:\n",
    "    print(\"Physics      \" , phy , \"     E\")\n",
    "if phy >= 40 and phy < 50:\n",
    "    print(\"Physics      \" , phy , \"     D\")\n",
    "if phy >= 50 and phy < 60:\n",
    "    print(\"Physics      \" , phy , \"     C\")\n",
    "if phy >= 60 and phy < 70:\n",
    "    print(\"Physics      \" , phy , \"     B\")\n",
    "if phy >= 70 and phy < 80: \n",
    "    print(\"Physics      \" , phy , \"     A\")\n",
    "if phy >= 80 and phy < 100:\n",
    "    print(\"Physics      \" , phy , \"     A1\")\n",
    "if phy < 33:\n",
    "    print(\"Physics      \" , chem , \"     F\") \n",
    "    \n",
    "if math >= 33 and math < 40:\n",
    "    print(\"Mathematics  \" , math , \"     E\")\n",
    "if math >= 40 and math < 50:\n",
    "    print(\"Mathematics  \" , math , \"     D\")\n",
    "if math >= 50 and math < 60:\n",
    "    print(\"Mathematics  \" , math , \"     C\")\n",
    "if math >= 60 and math < 70:\n",
    "    print(\"Mathematics  \" , math , \"     B\")\n",
    "if math >= 70 and math < 80:\n",
    "    print(\"Mathematics \" , math , \"     A\")\n",
    "if math >= 80 and math < 100:\n",
    "    print(\"Mathematics  \" , math , \"     A1\")\n",
    "if math < 33:\n",
    "    print(\"Mathematics  \" , chem , \"      F\")\n",
    "    \n",
    "if bio >= 33 and bio < 40:\n",
    "    print(\"Biology      \" , bio , \"     E\")\n",
    "if bio >= 40 and bio < 50:\n",
    "    print(\"Biology      \" , bio , \"     D\")\n",
    "if bio >= 50 and bio < 60: \n",
    "    print(\"Biology      \" , bio , \"      C\")\n",
    "if bio >= 60 and bio < 70:\n",
    "    print(\"Biology      \" , bio , \"     B\")\n",
    "if bio >= 70 and bio < 80:\n",
    "    print(\"Biology      \" , bio , \"     A\")\n",
    "if bio >= 80 and bio < 100:\n",
    "    print(\"Biology      \" , bio , \"     A1\")\n",
    "if bio < 33:\n",
    "    print(\"Biology      \" , chem , \"     F\")\n",
    "    \n",
    "if eng >= 33 and eng  < 40:\n",
    "    print(\"English      \" , eng , \"     E\")\n",
    "if eng >= 40 and eng < 50:\n",
    "    print(\"English      \" , eng , \"     D\")\n",
    "if eng >= 50 and eng < 60:\n",
    "    print(\"English      \" , eng , \"     C\")\n",
    "if eng >= 60 and eng  < 70:\n",
    "    print(\"English      \" , eng , \"     B\")\n",
    "if eng >= 70 and eng < 80:\n",
    "    print(\"English      \" , eng , \"     A\")\n",
    "if eng >= 80 and eng < 100:\n",
    "    print(\"English      \" , eng , \"     A1\")\n",
    "if eng < 33:\n",
    "    print(\"English      \" , chem , \"     F\")\n"
   ]
  },
  {
   "cell_type": "code",
   "execution_count": 2,
   "metadata": {},
   "outputs": [
    {
     "name": "stdout",
     "output_type": "stream",
     "text": [
      "Enter any Number : 56\n",
      "56 is Even\n"
     ]
    }
   ],
   "source": [
    "num = int(input(\"Enter any Number : \"))\n",
    "\n",
    "if num % 2 == 0:\n",
    "    print(num , \"is Even\")\n",
    "if num % 2 == 1:\n",
    "    print(num , \"is Odd\")\n",
    "\n"
   ]
  },
  {
   "cell_type": "code",
   "execution_count": 3,
   "metadata": {},
   "outputs": [
    {
     "name": "stdout",
     "output_type": "stream",
     "text": [
      "Enter any Number : muhammad kashif\n",
      "Length of String is :  15\n"
     ]
    }
   ],
   "source": [
    "\n",
    "a = input(\"Enter any Number : \")\n",
    "     \n",
    "print(\"Length of String is : \", len(a))"
   ]
  },
  {
   "cell_type": "code",
   "execution_count": 4,
   "metadata": {},
   "outputs": [
    {
     "name": "stdout",
     "output_type": "stream",
     "text": [
      "Sum of List is :  189\n"
     ]
    }
   ],
   "source": [
    "list = [2 , 4 , 67 , 8 , 32 , 76]\n",
    "sum = 0\n",
    "\n",
    "for x in range(0 , len(list)):\n",
    "     sum = sum + list[x]\n",
    "        \n",
    "print(\"Sum of List is : \" , sum)\n"
   ]
  },
  {
   "cell_type": "code",
   "execution_count": 5,
   "metadata": {},
   "outputs": [
    {
     "name": "stdout",
     "output_type": "stream",
     "text": [
      "Sum of List is :  101\n"
     ]
    }
   ],
   "source": [
    "list = [2 , 4 , 101 , 8 , 32 , 76]         #help from internet\n",
    "        \n",
    "print(\"Sum of List is : \" , max(list))\n"
   ]
  },
  {
   "cell_type": "code",
   "execution_count": 6,
   "metadata": {},
   "outputs": [
    {
     "name": "stdout",
     "output_type": "stream",
     "text": [
      "1\n",
      "1\n",
      "2\n",
      "3\n"
     ]
    }
   ],
   "source": [
    "a = [1 , 1 , 2 , 3 , 5 , 8 , 3 , 21 , 34 , 55 , 89]\n",
    "\n",
    "for x in range(0 , len(list)):\n",
    "     if (a[x] < 5):\n",
    "          print (a[x])\n"
   ]
  },
  {
   "cell_type": "code",
   "execution_count": null,
   "metadata": {},
   "outputs": [],
   "source": []
  }
 ],
 "metadata": {
  "kernelspec": {
   "display_name": "Python 3",
   "language": "python",
   "name": "python3"
  },
  "language_info": {
   "codemirror_mode": {
    "name": "ipython",
    "version": 3
   },
   "file_extension": ".py",
   "mimetype": "text/x-python",
   "name": "python",
   "nbconvert_exporter": "python",
   "pygments_lexer": "ipython3",
   "version": "3.7.3"
  }
 },
 "nbformat": 4,
 "nbformat_minor": 2
}
