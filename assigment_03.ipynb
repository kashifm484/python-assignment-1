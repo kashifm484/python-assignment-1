{
 "cells": [
  {
   "cell_type": "code",
   "execution_count": 1,
   "metadata": {},
   "outputs": [
    {
     "name": "stdout",
     "output_type": "stream",
     "text": [
      "****************** CALCULATOR **********************\n",
      "\t   1 - Addition \n",
      "\t   2 - Subtraction\n",
      "\t   3 - Multiplication\n",
      "\t   4 - Division\n",
      "\t   5 - power\n",
      "Enter your option :5\n",
      "\n",
      "Enter 1st Number :2\n",
      "Enter 2nd Number :2\n",
      "\n",
      "Power of  2 and 2  is : 4\n"
     ]
    }
   ],
   "source": [
    "print(\"****************** CALCULATOR **********************\")\n",
    "\n",
    "print(\"\\t   1 - Addition \")\n",
    "print(\"\\t   2 - Subtraction\")\n",
    "print(\"\\t   3 - Multiplication\")\n",
    "print(\"\\t   4 - Division\")\n",
    "print(\"\\t   5 - power\")\n",
    "\n",
    "opt = int(input(\"Enter your option :\"))\n",
    "\n",
    "if(opt == 1):\n",
    "    num1 = int(input(\"\\nEnter 1st Number :\"))\n",
    "    num2 = int(input(\"Enter 2nd Number :\"))\n",
    "    num = num1 + num2\n",
    "    print(\"\\nAddition of \" , num1 , \"and\" , num2 , \" is :\" , num)\n",
    "elif(opt == 2):\n",
    "    num1 = int(input(\"\\nEnter 1st Number :\"))\n",
    "    num2 = int(input(\"Enter 2nd Number :\"))\n",
    "    num = num1 - num2\n",
    "    print(\"\\nSubtraction of \" , num1 , \"and\" , num2 , \" is :\" , num)\n",
    "elif(opt == 3):\n",
    "    num1 = int(input(\"\\nEnter 1st Number :\"))\n",
    "    num2 = int(input(\"Enter 2nd Number :\"))\n",
    "    num = num1 * num2\n",
    "    print(\"\\nMultiplication of \" , num1 , \"and\" , num2 , \" is :\" , num)\n",
    "elif(opt == 4):\n",
    "    num1 = int(input(\"\\nEnter 1st Number :\"))\n",
    "    num2 = int(input(\"Enter 2nd Number :\"))\n",
    "    num = num1 / num2\n",
    "    print(\"\\nDivision of \" , num1 , \"and\" , num2 , \" is :\" , num)\n",
    "elif(opt == 5):\n",
    "    num1 = int(input(\"\\nEnter 1st Number :\"))\n",
    "    num2 = int(input(\"Enter 2nd Number :\"))\n",
    "    num = num1 ** num2\n",
    "    print(\"\\nPower of \" , num1 , \"and\" , num2 , \" is :\" , num)\n",
    "    \n",
    "    \n"
   ]
  },
  {
   "cell_type": "code",
   "execution_count": 87,
   "metadata": {},
   "outputs": [
    {
     "name": "stdout",
     "output_type": "stream",
     "text": [
      "Checking is there any number  in list or not : \n"
     ]
    }
   ],
   "source": [
    "arr = [ 1 , 'a' , 6 , 5 , 10 , 4 ] \n",
    "  \n",
    "print(\"Checking is there any number  in list or not : \") \n",
    "  \n",
    "for i in arr: \n",
    "    if [0-9] in arr:\n",
    "        print (\"YES\" )\n",
    "  \n",
    "\n",
    "\n"
   ]
  },
  {
   "cell_type": "code",
   "execution_count": 83,
   "metadata": {},
   "outputs": [
    {
     "name": "stdout",
     "output_type": "stream",
     "text": [
      "Before Add :  {'Name': 'Muhammad_kashif', 'Father_Name': 'Ali', 'Age': 22}\n",
      "After Add  :  {'Name': 'Muhammad_kashif', 'Father_Name': 'Muhammad_Gulzar', 'Age': 22, 'Gender': 'Male'}\n"
     ]
    }
   ],
   "source": [
    "dic = {'Name' : 'Muhammad_kashif', 'Father_Name': 'Ali' , 'Age' : 22}\n",
    "print(\"Before Add : \" ,dic)\n",
    "\n",
    "dic['Father_Name'] = 'Muhammad_Gulzar'  \n",
    "dic['Gender'] = 'Male' \n",
    "\n",
    "print(\"After Add  : \" , dic)"
   ]
  },
  {
   "cell_type": "code",
   "execution_count": 66,
   "metadata": {},
   "outputs": [
    {
     "name": "stdout",
     "output_type": "stream",
     "text": [
      "Sum of int in dic :  352\n"
     ]
    }
   ],
   "source": [
    "dic = {1:97 , 2:33 , 3:79 , 4:66 , 5:77}\n",
    "\n",
    "sum = dic[1] + dic[2] + dic[3] + dic[4] + dic[5]\n",
    "\n",
    "print(\"Sum of int in dic : \" , sum)"
   ]
  },
  {
   "cell_type": "code",
   "execution_count": 97,
   "metadata": {},
   "outputs": [
    {
     "name": "stdout",
     "output_type": "stream",
     "text": [
      "yes duplicate of  1  exist\n",
      "yes duplicate of  10  exist\n",
      "yes duplicate of  6  exist\n",
      "yes duplicate of  5  exist\n",
      "yes duplicate of  10  exist\n",
      "yes duplicate of  4  exist\n"
     ]
    }
   ],
   "source": [
    "arr = [ 1 , 10 , 6 , 5 , 10 , 4 ] \n",
    "\n",
    "for i in arr :\n",
    "  if i in arr:\n",
    "    print(\"yes duplicate of \" , i ,\" exist\")\n",
    "\n"
   ]
  },
  {
   "cell_type": "code",
   "execution_count": null,
   "metadata": {},
   "outputs": [],
   "source": []
  }
 ],
 "metadata": {
  "kernelspec": {
   "display_name": "Python 3",
   "language": "python",
   "name": "python3"
  },
  "language_info": {
   "codemirror_mode": {
    "name": "ipython",
    "version": 3
   },
   "file_extension": ".py",
   "mimetype": "text/x-python",
   "name": "python",
   "nbconvert_exporter": "python",
   "pygments_lexer": "ipython3",
   "version": "3.7.3"
  }
 },
 "nbformat": 4,
 "nbformat_minor": 2
}
