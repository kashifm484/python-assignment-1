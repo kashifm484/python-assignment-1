{
 "cells": [
  {
   "cell_type": "code",
   "execution_count": 5,
   "metadata": {},
   "outputs": [
    {
     "name": "stdout",
     "output_type": "stream",
     "text": [
      "Twinkle, twinkle, little star,\n",
      "   How I wounder what you are!\n",
      "           Up above the world so high,\n",
      "           Like a diamond in the sky.\n",
      "Twinkle, twinkle, little star,\n",
      "   How I wounder what you are!\n"
     ]
    }
   ],
   "source": [
    "#QUESTION N0 . 01\n",
    "print (\"Twinkle, twinkle, little star,\")\n",
    "print (  \"   How I wounder what you are!\")\n",
    "print (\"           Up above the world so high,\")\n",
    "print (\"           Like a diamond in the sky.\")\n",
    "print (\"Twinkle, twinkle, little star,\")\n",
    "print (  \"   How I wounder what you are!\")"
   ]
  },
  {
   "cell_type": "code",
   "execution_count": 7,
   "metadata": {},
   "outputs": [
    {
     "name": "stdout",
     "output_type": "stream",
     "text": [
      "Python Version\n",
      "3.7.3 (default, Mar 27 2019, 17:13:21) [MSC v.1915 64 bit (AMD64)]\n"
     ]
    }
   ],
   "source": [
    "#QUESTION N0 . 02\n",
    "import sys                   #get help from google\n",
    "print (\"Python Version :\")\n",
    "print (sys.version)"
   ]
  },
  {
   "cell_type": "code",
   "execution_count": 16,
   "metadata": {},
   "outputs": [
    {
     "name": "stdout",
     "output_type": "stream",
     "text": [
      "Current Date And Time :\n",
      "19-11-05 06:18:48\n"
     ]
    }
   ],
   "source": [
    "#QUESTION N0 . 03\n",
    "import datetime                      #get help from google\n",
    "today = datetime.datetime.now()\n",
    "print (\"Current Date And Time :\")\n",
    "print(today.strftime(\"%y-%m-%d %H:%M:%S\"))"
   ]
  },
  {
   "cell_type": "code",
   "execution_count": 23,
   "metadata": {},
   "outputs": [
    {
     "name": "stdout",
     "output_type": "stream",
     "text": [
      "Enter Radius Of Circle :3\n",
      "Area Of Circle with Radius 3 is : 28.274309999999996\n"
     ]
    }
   ],
   "source": [
    "#QUESTION N0 . 04\n",
    "r = input(\"Enter Radius Of Circle : \")\n",
    "\n",
    "π = 3.14159\n",
    "\n",
    "a = π*int(r)*int(r)               \n",
    "\n",
    "print(\"Area Of Circle with Radius\" , r , \"is :\" , a)"
   ]
  },
  {
   "cell_type": "code",
   "execution_count": 26,
   "metadata": {},
   "outputs": [
    {
     "name": "stdout",
     "output_type": "stream",
     "text": [
      "Enter Your First Name : M\n",
      "Enter your Second Name :KASHIF\n",
      "KASHIF M\n"
     ]
    }
   ],
   "source": [
    "#QUESTION N0 . 05\n",
    "fName = input(\"Enter Your First Name : \")\n",
    "lName = input (\"Enter your Second Name : \")\n",
    "print(lName + \" \" + fName)"
   ]
  },
  {
   "cell_type": "code",
   "execution_count": 30,
   "metadata": {},
   "outputs": [
    {
     "name": "stdout",
     "output_type": "stream",
     "text": [
      "Enter First Number : 3\n",
      "Enter Second Number : 4\n",
      "Sum Of Number 3 And Number 4 is : 7\n"
     ]
    }
   ],
   "source": [
    "#QUESTION N0 . 06\n",
    "fNum = input(\"Enter First Number : \")\n",
    "sNum = input(\"Enter Second Number : \")\n",
    "sum = int(fNum) + int(sNum)\n",
    "print(\"Sum Of Number\" , fNum , \"And Number\" , sNum , \"is :\" , sum)\n"
   ]
  },
  {
   "cell_type": "code",
   "execution_count": null,
   "metadata": {},
   "outputs": [],
   "source": []
  }
 ],
 "metadata": {
  "kernelspec": {
   "display_name": "Python 3",
   "language": "python",
   "name": "python3"
  },
  "language_info": {
   "codemirror_mode": {
    "name": "ipython",
    "version": 3
   },
   "file_extension": ".py",
   "mimetype": "text/x-python",
   "name": "python",
   "nbconvert_exporter": "python",
   "pygments_lexer": "ipython3",
   "version": "3.7.3"
  }
 },
 "nbformat": 4,
 "nbformat_minor": 2
}
