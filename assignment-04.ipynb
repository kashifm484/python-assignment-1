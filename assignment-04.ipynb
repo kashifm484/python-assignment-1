{
 "cells": [
  {
   "cell_type": "code",
   "execution_count": 23,
   "metadata": {},
   "outputs": [
    {
     "name": "stdout",
     "output_type": "stream",
     "text": [
      "Record of student :  {1: {'FisrtName': 'Muhammad', 'LastName': 'Kashif', 'Age': 25, 'City': 'Karachi'}, 2: {'FisrtName': 'Rahul', 'LastName': 'kumar', 'Age': 20, 'City': 'Larkana'}} \n",
      "\n",
      "Record of student afetr enter qualification  {1: {'FisrtName': 'Muhammad', 'LastName': 'Kashif', 'Age': 25, 'City': 'Karachi', 'qualification': 'FA'}, 2: {'FisrtName': 'Rahul', 'LastName': 'kumar', 'Age': 20, 'City': 'Larkana', 'qualification': 'Fsc'}} \n",
      "\n",
      "Record of student afetr enter Higher qualification  {1: {'FisrtName': 'Muhammad', 'LastName': 'Kashif', 'Age': 25, 'City': 'Karachi', 'qualification': 'FA', 'highAcademiclevel': 'BA psyhcology'}, 2: {'FisrtName': 'Rahul', 'LastName': 'kumar', 'Age': 20, 'City': 'Larkana', 'qualification': 'Fsc', 'highAcademiclevel': 'BSCS'}} \n",
      "\n",
      "Record of student afetr delete Higher qualification  {1: {'FisrtName': 'Muhammad', 'LastName': 'Kashif', 'Age': 25, 'City': 'Karachi', 'qualification': 'FA'}, 2: {'FisrtName': 'Rahul', 'LastName': 'kumar', 'Age': 20, 'City': 'Larkana', 'qualification': 'Fsc'}}\n"
     ]
    }
   ],
   "source": [
    "student = {\n",
    "    1: {\"FisrtName\": \"Muhammad\",\n",
    "        \"LastName\": \"Kashif\",\n",
    "        \"Age\": 25,\n",
    "        \"City\": \"Karachi\"\n",
    "        },\n",
    "    2: {\"FisrtName\": \"Rahul\",\n",
    "        \"LastName\": \"kumar\",\n",
    "        \"Age\" : 20,\n",
    "        \"City\": \"Larkana\"\n",
    "        },\n",
    "}\n",
    "print(\"Record of student : \" , student, \"\\n\")\n",
    "\n",
    "student[1][\"qualification\"] = \"FA\"\n",
    "student[2][\"qualification\"] = \"Fsc\"\n",
    "print(\"Record of student afetr enter qualification \" , student, \"\\n\")\n",
    "\n",
    "student[1][\"highAcademiclevel\"] = \"BA psyhcology\"\n",
    "student[2][\"highAcademiclevel\"] = \"BSCS\"\n",
    "print(\"Record of student afetr enter Higher qualification \" ,student, \"\\n\")\n",
    "\n",
    "del student[1][\"highAcademiclevel\"]\n",
    "del student[2][\"highAcademiclevel\"]\n",
    "print(\"Record of student afetr delete Higher qualification \" , student)\n"
   ]
  },
  {
   "cell_type": "code",
   "execution_count": 16,
   "metadata": {},
   "outputs": [
    {
     "name": "stdout",
     "output_type": "stream",
     "text": [
      "city  Karachi \n",
      "information : {'country': 'Pakistan', 'population': '30 MILLION', 'fact': 'city of Light'}\n",
      "city  KPK \n",
      "information : {'country': 'Kakistan', 'population': '1 MILLION', 'fact': 'Its old name is N.W.F.P'}\n",
      "city  Paris \n",
      "information  : {'country': 'France', 'population': '2.5 MILLION', 'fact': 'City where Eiffel tower situated'}\n"
     ]
    }
   ],
   "source": [
    "cities = { 1:\"Karachi\" , 2:\"KPK\" , 3:\"Paris\"}\n",
    "\n",
    "information = { 1: {\n",
    "                     \"country\" : \"Pakistan\",\n",
    "                     \"population\" : \"30 MILLION\",\n",
    "                     \"fact\" : \"city of Light\" },\n",
    "\n",
    "                2: {\n",
    "                     \"country\" : \"Kakistan\",\n",
    "                     \"population\" : \"1 MILLION\",\n",
    "                     \"fact\" : \"Its old name is N.W.F.P\" },\n",
    "\n",
    "                3: {\n",
    "                     \"country\" : \"France\",\n",
    "                     \"population\" : \"2.5 MILLION\",\n",
    "                     \"fact\" : \"City where Eiffel tower situated\" }\n",
    "\n",
    "}\n",
    "\n",
    "print(\"city \", cities[1], \"\\ninformation :\",  information[1])\n",
    "print(\"city \", cities[2], \"\\ninformation :\",  information[2])\n",
    "print(\"city \", cities[3], \"\\ninformation  :\", information[3])\n"
   ]
  },
  {
   "cell_type": "code",
   "execution_count": 5,
   "metadata": {},
   "outputs": [
    {
     "name": "stdout",
     "output_type": "stream",
     "text": [
      " ********** A MOVIE THEATER CHARGES ! **********\n",
      "\n",
      "Enter your age to buy a ticket :  34\n",
      "Ticket is of $15 for age  34\n"
     ]
    }
   ],
   "source": [
    "print(\" ********** A MOVIE THEATER CHARGES ! **********\\n\")\n",
    "\n",
    "Age = int(input(\"Enter your age to buy a Ticket :  \"))\n",
    "\n",
    "if Age < 3:\n",
    "    print(\"Ticket is free for age \" , Age)\n",
    "elif Age >= 3 and Age <= 12:\n",
    "    print(\"Ticket is of $10 for age \" , Age )\n",
    "else:\n",
    "    print(\"Ticket is of $15 for age \" , Age)\n"
   ]
  },
  {
   "cell_type": "code",
   "execution_count": 26,
   "metadata": {},
   "outputs": [
    {
     "name": "stdout",
     "output_type": "stream",
     "text": [
      "enter your favourite book  :alif lellah\n",
      "One of my favourite book is   :  alif lellah\n"
     ]
    }
   ],
   "source": [
    "\n",
    "def favorite_book(title):\n",
    "    print(\"One of my favourite book is   : \", title)\n",
    "    \n",
    "\n",
    "\n",
    "f_book = str(input(\"enter your favourite book  :\"))\n",
    "favorite_book(f_book)\n"
   ]
  },
  {
   "cell_type": "code",
   "execution_count": 2,
   "metadata": {},
   "outputs": [
    {
     "name": "stdout",
     "output_type": "stream",
     "text": [
      "[24, 23, 9, 11, 2, 3, 17, 27, 5, 27]\n",
      "Enter your guess number ranging from 1 to 30 :  29\n",
      "your guess number is greater than actual number\n",
      "Now  you have two more chances to guess : 25\n",
      "your guess number is greater than actual number\n",
      "Now  you have only one  chances to guess : 25\n",
      "Soory you lose the game ...\n"
     ]
    }
   ],
   "source": [
    "import itertools\n",
    "import random\n",
    "\n",
    "def random_gen(l, h):\n",
    "    while True:\n",
    "        yield random.randrange(l, h)\n",
    "\n",
    "\n",
    "gen = random_gen(1, 30)\n",
    "items = list(itertools.islice(gen, 10))\n",
    "\n",
    "print(items)\n",
    "gen = random_gen(1, 30)\n",
    "\n",
    "\n",
    "def again1():\n",
    "    nums = int(input(\"Now  you have only one  chances to guess : \"))\n",
    "    if nums == items[1]:\n",
    "        print(\"your guess is correct you win the game ...\")\n",
    "    else:\n",
    "        print(\"Soory you lose the game ...\")\n",
    "\n",
    "\n",
    "def again():\n",
    "    nums = int(input(\"Now  you have two more chances to guess : \"))\n",
    "    if nums == items[1]:\n",
    "        print(\"your guess is correct you win the game ...\")\n",
    "\n",
    "    elif nums < items[1]:\n",
    "        print(\"your guess number is lesser than actual number\")\n",
    "        again1()\n",
    "\n",
    "    elif nums > items[1]:\n",
    "        print(\"your guess number is greater than actual number\")\n",
    "        again1()\n",
    "\n",
    "\n",
    "num = int(input(\"Enter your guess number ranging from 1 to 30 :  \"))\n",
    "\n",
    "guess = 0\n",
    "if num == items[1]:\n",
    "    print(\"your guess is correct you win the game ...\")\n",
    "\n",
    "elif num < items[1]:\n",
    "    print(\"your guess number is lesser than actual number\")\n",
    "    again()\n",
    "elif num > items[1]:\n",
    "    print(\"your guess number is greater than actual number\")\n",
    "    again()\n"
   ]
  },
  {
   "cell_type": "code",
   "execution_count": null,
   "metadata": {},
   "outputs": [],
   "source": []
  }
 ],
 "metadata": {
  "kernelspec": {
   "display_name": "Python 3",
   "language": "python",
   "name": "python3"
  },
  "language_info": {
   "codemirror_mode": {
    "name": "ipython",
    "version": 3
   },
   "file_extension": ".py",
   "mimetype": "text/x-python",
   "name": "python",
   "nbconvert_exporter": "python",
   "pygments_lexer": "ipython3",
   "version": "3.7.3"
  }
 },
 "nbformat": 4,
 "nbformat_minor": 2
}
