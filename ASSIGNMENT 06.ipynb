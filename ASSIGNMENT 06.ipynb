{
 "cells": [
  {
   "cell_type": "markdown",
   "metadata": {},
   "source": [
    "### QUESTION # 01 :\n",
    "# OBJECT ORIENTED PROGRAMMING LANGUAGE :\n",
    "##                    \"oop is a programming based on the concept of OBJECTS  which can contain data, in the form of field , and code, in the form of procedure\""
   ]
  },
  {
   "cell_type": "markdown",
   "metadata": {},
   "source": [
    "###  QUESTION # 02 :\n",
    "# LIST OF BENEFITS OF OOP :\n",
    "##    (1) Modularity for easier troubleshooting .                                                         (2) Reuse of code  through inheritance .                                                             (3) Flexibility through polyporphism .                                                                 (4) Effective problem solving .\n",
    "    "
   ]
  },
  {
   "cell_type": "markdown",
   "metadata": {},
   "source": [
    "### QUESTION # 03 :\n",
    "#### DIFFERENCE B/W FUNCTION AND METHOD :\n",
    "# Function :\n",
    "##  A function is a group of reuseable code which can be called anywhere in your program .\n",
    "# Method :\n",
    "## A method is procedure or function in object oriented function ."
   ]
  },
  {
   "cell_type": "markdown",
   "metadata": {},
   "source": [
    "### QUESTION # 04 :\n",
    "# 1- CLASS :\n",
    "##          In object-oriented programming, a class is a blueprint for creating objects , providing initial values for state , and implementations of behavior . The user-defined objects are created using the class keyword.\n",
    "# 2- OBJECT :\n",
    "##         Object is an instance of a particular class or subclass with the class's own methods or procedures and data variables.\n",
    "# 3- ATTRIBUTE :\n",
    "##         Attributes are data stored inside a class or instance and represent the state or quality of the class or instance. In short, attributes store information about the instance.\n",
    "# 4- BEHAVIOR :\n",
    "##         Behavior is the only way objects can do anything to themselves or have anything done to them."
   ]
  },
  {
   "cell_type": "code",
   "execution_count": 15,
   "metadata": {},
   "outputs": [
    {
     "name": "stdout",
     "output_type": "stream",
     "text": [
      "********************* CAR 1 ********************\n",
      "MEHRAN\n",
      "CC-23\n",
      "RED\n",
      "2016\n",
      "CNG\n",
      "********************* CAR 2 ********************\n",
      "AULTO\n",
      "GC-24\n",
      "BLUE\n",
      "2017\n",
      "PETROL\n",
      "********************* CAR 3 ********************\n",
      "CULTUS\n",
      "WW-27\n",
      "PURPLE\n",
      "2011\n",
      "CNG\n",
      "********************* CAR 4 ********************\n",
      "WEGONR\n",
      "ZE-44\n",
      "GREY\n",
      "2019\n",
      "CNG\n",
      "********************* CAR 5 ********************\n",
      "COROLLA\n",
      "FS-50\n",
      "BLACK\n",
      "2013\n",
      "PETROL\n"
     ]
    }
   ],
   "source": [
    "#QUESTION # 05 :\n",
    "class car():\n",
    "    def __init__(intro,name,model,colour,year,fuel):\n",
    "        intro.name = name\n",
    "        intro.model = model\n",
    "        intro.colour = colour\n",
    "        intro.year = year\n",
    "        intro.fuel = fuel\n",
    "        \n",
    "    \n",
    "    \n",
    "print(\"********************* CAR 1 ********************\")      \n",
    "car1 = car('MEHRAN','CC-23','RED',2016,'CNG')\n",
    "print(car1.name)\n",
    "print(car1.model)\n",
    "print(car1.colour)\n",
    "print(car1.year)\n",
    "print(car1.fuel)\n",
    "\n",
    "\n",
    "print(\"********************* CAR 2 ********************\")      \n",
    "car2 = car('AULTO','GC-24','BLUE',2017,'PETROL')\n",
    "print(car2.name)\n",
    "print(car2.model)\n",
    "print(car2.colour)\n",
    "print(car2.year)\n",
    "print(car2.fuel)\n",
    "        \n",
    "\n",
    "print(\"********************* CAR 3 ********************\")      \n",
    "car3 = car('CULTUS','WW-27','PURPLE',2011,'CNG')\n",
    "print(car3.name)\n",
    "print(car3.model)\n",
    "print(car3.colour)\n",
    "print(car3.year)\n",
    "print(car3.fuel)\n",
    "        \n",
    "\n",
    "print(\"********************* CAR 4 ********************\")      \n",
    "car4 = car('WEGONR','ZE-44','GREY',2019,'CNG')\n",
    "print(car4.name)\n",
    "print(car4.model)\n",
    "print(car4.colour)\n",
    "print(car4.year)\n",
    "print(car4.fuel)\n",
    "        \n",
    "\n",
    "print(\"********************* CAR 5 ********************\")      \n",
    "car5 = car('COROLLA','FS-50','BLACK',2013,'PETROL')\n",
    "print(car5.name)\n",
    "print(car5.model)\n",
    "print(car5.colour)\n",
    "print(car5.year)\n",
    "print(car5.fuel)\n",
    "        \n",
    "        "
   ]
  },
  {
   "cell_type": "code",
   "execution_count": null,
   "metadata": {},
   "outputs": [],
   "source": []
  }
 ],
 "metadata": {
  "kernelspec": {
   "display_name": "Python 3",
   "language": "python",
   "name": "python3"
  },
  "language_info": {
   "codemirror_mode": {
    "name": "ipython",
    "version": 3
   },
   "file_extension": ".py",
   "mimetype": "text/x-python",
   "name": "python",
   "nbconvert_exporter": "python",
   "pygments_lexer": "ipython3",
   "version": "3.7.3"
  }
 },
 "nbformat": 4,
 "nbformat_minor": 2
}
