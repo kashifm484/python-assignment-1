{
 "cells": [
  {
   "cell_type": "code",
   "execution_count": 1,
   "metadata": {},
   "outputs": [
    {
     "name": "stdout",
     "output_type": "stream",
     "text": [
      "Enter Any Non-Negative Number :6\n",
      "Factorial Of  6  is  720\n"
     ]
    }
   ],
   "source": [
    "def factorial(num):\n",
    "    fac = 1\n",
    "    for i in range(1, num+1):\n",
    "        fac = fac * i\n",
    "        \n",
    "    print(\"Factorial Of \" , num , \" is \" , fac)\n",
    "    \n",
    "\n",
    "\n",
    "n = int(input(\"Enter Any Non-Negative Number :\"))\n",
    "factorial(n)\n"
   ]
  },
  {
   "cell_type": "code",
   "execution_count": 3,
   "metadata": {},
   "outputs": [
    {
     "name": "stdout",
     "output_type": "stream",
     "text": [
      "Enter String :My Father Is an Army Person\n",
      "Number Of Upper Case characters :  5\n",
      "Number Of Lower Case Characters :  17\n",
      "String :  My Father Is an Army Person\n"
     ]
    }
   ],
   "source": [
    "def stringCount(string):\n",
    "    u = 0\n",
    "    l = 0\n",
    "    for i in string:\n",
    "        if i.isupper():\n",
    "          u = u + 1\n",
    "        elif i.islower():\n",
    "          l = l + 1\n",
    "        else:\n",
    "            pass\n",
    "            \n",
    "    print (\"Number Of Upper Case characters : \" , u)\n",
    "    print (\"Number Of Lower Case Characters : \" , l)\n",
    "\n",
    "            \n",
    "s = str(input(\"Enter String :\"))\n",
    "stringCount(s)\n",
    "print (\"String : \" , s)\n",
    "\n",
    "\n"
   ]
  },
  {
   "cell_type": "code",
   "execution_count": 4,
   "metadata": {},
   "outputs": [
    {
     "name": "stdout",
     "output_type": "stream",
     "text": [
      "Enter Any Non-Negative Number :7\n",
      "7  is Not Even Number\n"
     ]
    }
   ],
   "source": [
    "def evenNum(num):\n",
    "    if num%2 == 0 :\n",
    "        print(num , \" is Even Number\")\n",
    "    else:\n",
    "        print (num , \" is Not Even Number\")\n",
    "        \n",
    "n = int(input(\"Enter Any Non-Negative Number :\"))\n",
    "evenNum(n)\n",
    "\n"
   ]
  },
  {
   "cell_type": "code",
   "execution_count": 6,
   "metadata": {},
   "outputs": [
    {
     "name": "stdout",
     "output_type": "stream",
     "text": [
      "Enter Any Non-Negative Number :mom\n",
      "mom  is Palindrome\n"
     ]
    }
   ],
   "source": [
    "def isPalindrome(s):\n",
    "    if(s == s[::-1]):                 #TAKE HELP FROM INTERNET\n",
    "        print(s , \" is Palindrome\")\n",
    "    else:\n",
    "        print(s , \" is Not Palindrome\")\n",
    "\n",
    "       \n",
    "    \n",
    "string  = input(\"Enter Any Non-Negative Number :\")\n",
    "isPalindrome(string)\n",
    "        \n",
    "    \n",
    "     \n"
   ]
  },
  {
   "cell_type": "code",
   "execution_count": 33,
   "metadata": {},
   "outputs": [
    {
     "name": "stdout",
     "output_type": "stream",
     "text": [
      "Enter Any Non Negative Number : 55\n",
      "55  is a Prime\n"
     ]
    }
   ],
   "source": [
    "def primeOrNot(num):\n",
    "    if num > 1:\n",
    "        for i in range(2,num):\n",
    "            if(num%i) == 0:\n",
    "                print(num , \" is Not a Prime Number\")\n",
    "                break\n",
    "            else:\n",
    "                print(num , \" is a Prime\")\n",
    "                break\n",
    "    \n",
    "    else:\n",
    "        print(num , \" is  a Prime Number\")\n",
    "        \n",
    "n = int(input(\"Enter Any Non Negative Number : \"))\n",
    "primeOrNot(n)"
   ]
  },
  {
   "cell_type": "code",
   "execution_count": 37,
   "metadata": {},
   "outputs": [
    {
     "name": "stdout",
     "output_type": "stream",
     "text": [
      "1 Shirt \n",
      "\n",
      "2 Pent \n",
      "\n",
      "3 Bread \n",
      "\n",
      "4 Cell Phone \n",
      "\n"
     ]
    }
   ],
   "source": [
    "def shopping(*items):\n",
    "    i = 1\n",
    "    for name in items:\n",
    "        print(i , name , \"\\n\")\n",
    "        i += 1\n",
    "        \n",
    "        \n",
    "shopping(\"Shirt\" , \"Pent\" , \"Bread\" , \"Cell Phone\")"
   ]
  },
  {
   "cell_type": "code",
   "execution_count": null,
   "metadata": {},
   "outputs": [],
   "source": []
  }
 ],
 "metadata": {
  "kernelspec": {
   "display_name": "Python 3",
   "language": "python",
   "name": "python3"
  },
  "language_info": {
   "codemirror_mode": {
    "name": "ipython",
    "version": 3
   },
   "file_extension": ".py",
   "mimetype": "text/x-python",
   "name": "python",
   "nbconvert_exporter": "python",
   "pygments_lexer": "ipython3",
   "version": "3.7.3"
  }
 },
 "nbformat": 4,
 "nbformat_minor": 2
}
